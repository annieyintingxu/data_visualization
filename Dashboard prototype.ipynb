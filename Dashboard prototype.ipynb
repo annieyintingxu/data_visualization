{
 "cells": [
  {
   "cell_type": "code",
   "execution_count": 7,
   "metadata": {},
   "outputs": [],
   "source": [
    "import dash\n",
    "import dash_core_components as dcc\n",
    "import dash_html_components as html\n",
    "import dash_table\n",
    "import plotly.graph_objs as go\n",
    "import pandas as pd\n",
    "from urllib.request import urlopen\n",
    "from datetime import datetime as dt\n",
    "import json\n",
    "with urlopen('https://raw.githubusercontent.com/plotly/datasets/master/geojson-counties-fips.json') as response:\n",
    "     counties = json.load(response)"
   ]
  },
  {
   "cell_type": "code",
   "execution_count": 8,
   "metadata": {},
   "outputs": [],
   "source": [
    "#counties"
   ]
  },
  {
   "cell_type": "code",
   "execution_count": 9,
   "metadata": {},
   "outputs": [
    {
     "name": "stdout",
     "output_type": "stream",
     "text": [
      "8.39209621993127\n",
      "hello\n",
      "9.162187673514733\n",
      "hello\n",
      "9.36931818181818\n",
      "hello\n",
      "5.512464589235131\n",
      "hello\n",
      "9.564306784660754\n",
      "hello\n",
      "5.281818181818181\n",
      "hello\n",
      "9.103209459459451\n",
      "hello\n",
      "7.345303867403318\n",
      "hello\n",
      "7.637570621468922\n",
      "hello\n",
      "7.523037974683547\n",
      "hello\n",
      "8.570914826498438\n",
      "hello\n",
      "7.513898305084741\n",
      "hello\n",
      "8.933932657731296\n",
      "hello\n",
      "7.850123456790128\n",
      "hello\n",
      "10.600217864923737\n",
      "hello\n",
      "8.3970254957507\n",
      "hello\n",
      "6.667500000000002\n",
      "hello\n",
      "8.331338028169013\n",
      "hello\n",
      "6.404545454545459\n",
      "hello\n",
      "5.187292817679558\n",
      "hello\n",
      "7.385207100591716\n",
      "hello\n",
      "7.381593406593406\n",
      "hello\n",
      "6.649575070821529\n",
      "hello\n",
      "8.532834507042228\n",
      "hello\n",
      "8.242535211267606\n",
      "hello\n",
      "5.142647058823527\n",
      "hello\n",
      "8.745853658536586\n",
      "hello\n",
      "8.5703196347032\n",
      "hello\n",
      "10.69498607242339\n",
      "hello\n"
     ]
    }
   ],
   "source": [
    "df = pd.read_csv('../../past_data/PM2.5_2019 (EPA).csv',sep = ',')\n",
    "df_new = pd.read_csv('../counties.csv',sep = ',')\n",
    "df_new['val'] = 0\n",
    "df_new.dropna(subset=['FIPS #'],inplace = True)\n",
    "#df = df.loc[:,['COUNTY_CODE','STATE','Site Name','SITE_LATITUDE','SITE_LONGITUDE','COUNTY','Daily Mean PM2.5 Concentration','CBSA_NAME']].groupby(['COUNTY_CODE','CBSA_NAME','STATE','Site Name','SITE_LATITUDE','SITE_LONGITUDE','COUNTY']).mean()\n",
    "df = df.loc[:,['COUNTY_CODE','Daily Mean PM2.5 Concentration','COUNTY']].groupby(['COUNTY_CODE','COUNTY']).mean()\n",
    "df.reset_index(inplace = True)\n",
    "for index, row in df_new.iterrows():\n",
    "    if(len(df[df['COUNTY'] == df_new.loc[index,' County Name '].strip()]) > 0):\n",
    "        b = (df[df['COUNTY'] == df_new.loc[index,' County Name '].strip()])\n",
    "        print(b.iloc[0]['Daily Mean PM2.5 Concentration'])\n",
    "        df_new.loc[index,'val'] = b.iloc[0]['Daily Mean PM2.5 Concentration']\n",
    "        print('hello')\n",
    "    \n",
    "df_new.reset_index(inplace=True)    \n",
    "df_new['FIPS #'] = df_new['FIPS #']+48000\n",
    "df_new['FIPS #'] = df_new['FIPS #'].astype(int).astype(str)\n",
    "#48000 + (county_number * 2) - 1"
   ]
  },
  {
   "cell_type": "code",
   "execution_count": 10,
   "metadata": {
    "scrolled": false
   },
   "outputs": [],
   "source": [
    "trace= go.Choroplethmapbox(geojson=counties,\n",
    "                           locations=df_new['FIPS #'],\n",
    "                           z=df_new['val'],\n",
    "                           colorscale='ice',\n",
    "                           colorbar_thickness=20,\n",
    "                           text = df_new[' County Name '],\n",
    "                           marker_line_color='white',customdata = df_new['FIPS #'], hovertemplate = '<b>County</b>: <b>%{text}</b>'+\n",
    "                                            '<br> <b>Val </b>: %{z}<br>'+  '<extra></extra>'\n",
    "                        )"
   ]
  },
  {
   "cell_type": "code",
   "execution_count": 11,
   "metadata": {},
   "outputs": [],
   "source": [
    "fig= go.Figure(data = trace)\n",
    "mapboxt = 'pk.eyJ1IjoiY2hyaWRkeXAiLCJhIjoiY2ozcGI1MTZ3MDBpcTJ3cXR4b3owdDQwaCJ9.8jpMunbKjdq1anXwU5gxIw'                           \n",
    "                            \n",
    "fig.update_layout(title_text= 'Texas Heatmap',\n",
    "                  title_x=0.5, width = 700, height=700,\n",
    "                  mapbox = dict(center= dict(lat=31.3915,  lon=-99.1707),\n",
    "                                 accesstoken= mapboxt,style = 'basic',\n",
    "                                 zoom=4.5,\n",
    "                               ));\n",
    "# fig.update_layout(hoverlabel=dict(\n",
    "#         bgcolor=\"white\", \n",
    "#         font_size=16, \n",
    "#         font_family=\"Rockwell\"))\n",
    "#fig.show()\n",
    "df = df_new"
   ]
  },
  {
   "cell_type": "code",
   "execution_count": null,
   "metadata": {},
   "outputs": [
    {
     "name": "stdout",
     "output_type": "stream",
     "text": [
      "Running on http://127.0.0.1:8050/\n",
      "Running on http://127.0.0.1:8050/\n",
      "Debugger PIN: 056-796-787\n",
      "Debugger PIN: 056-796-787\n",
      " * Serving Flask app \"__main__\" (lazy loading)\n",
      " * Environment: production\n",
      "   WARNING: Do not use the development server in a production environment.\n",
      "   Use a production WSGI server instead.\n",
      " * Debug mode: on\n"
     ]
    }
   ],
   "source": [
    "\n",
    "app = dash.Dash()\n",
    "app.layout = html.Div([\n",
    "    html.H1('Texas Air Quality Heatmap'),\n",
    "    html.Div(id='text-content'),\n",
    "    dcc.Graph(id='map', figure=fig),dcc.DatePickerSingle(\n",
    "        id='my-date-picker-single',\n",
    "        min_date_allowed=dt(1995, 8, 5),\n",
    "        max_date_allowed=dt(2017, 9, 19),\n",
    "        initial_visible_month=dt(2017, 8, 5),\n",
    "        date=str(dt(2017, 8, 25, 23, 59, 59))\n",
    "    )])\n",
    "\n",
    "@app.callback(\n",
    "    dash.dependencies.Output('text-content', 'children'),\n",
    "    [dash.dependencies.Input('map', 'hoverData')])\n",
    "def update_text(hoverData):\n",
    "    if(hoverData == None):\n",
    "        return \"Hover over a county\"\n",
    "    s = df[df['FIPS #'] == hoverData['points'][0]['customdata']]\n",
    "    # Blank county has blank /units/ of /parameter/\n",
    "    return html.H3(\n",
    "        '{} County has {} ppm of {}'.format(\n",
    "            s.iloc[0][' County Name '],\n",
    "            s.iloc[0]['val'],\n",
    "            'PM2.5')\n",
    "    )\n",
    "\n",
    "app.css.append_css({\n",
    "    'external_url': 'https://codepen.io/chriddyp/pen/bWLwgP.css'\n",
    "})\n",
    "\n",
    "if __name__ == '__main__':\n",
    "    app.run_server(debug=True,use_reloader = False)"
   ]
  },
  {
   "cell_type": "code",
   "execution_count": null,
   "metadata": {},
   "outputs": [],
   "source": []
  },
  {
   "cell_type": "code",
   "execution_count": null,
   "metadata": {},
   "outputs": [],
   "source": []
  },
  {
   "cell_type": "code",
   "execution_count": null,
   "metadata": {},
   "outputs": [],
   "source": []
  }
 ],
 "metadata": {
  "kernelspec": {
   "display_name": "Python 3",
   "language": "python",
   "name": "python3"
  },
  "language_info": {
   "codemirror_mode": {
    "name": "ipython",
    "version": 3
   },
   "file_extension": ".py",
   "mimetype": "text/x-python",
   "name": "python",
   "nbconvert_exporter": "python",
   "pygments_lexer": "ipython3",
   "version": "3.7.3"
  }
 },
 "nbformat": 4,
 "nbformat_minor": 2
}
